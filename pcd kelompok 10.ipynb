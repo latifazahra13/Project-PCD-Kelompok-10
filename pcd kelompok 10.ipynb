{
 "cells": [
  {
   "attachments": {},
   "cell_type": "markdown",
   "metadata": {},
   "source": [
    "## Import Library"
   ]
  },
  {
   "attachments": {},
   "cell_type": "markdown",
   "metadata": {},
   "source": [
    "Script di bawah digunakan untuk meng-import library yang diperlukan untuk menjalankan beberapa operasi dalam analisis citra dan pemrosesan data. \n",
    "- numpy : digunakan untuk manipulasi dan operasi array numerik efisien.\n",
    "- matplotlib.pyplot : digunakan untuk membuat visualisasi grafik dan plot.\n",
    "- os : digunakan untuk berinteraksi dengan sistem operasi, seperti mengakses file dan direktori dalam dataset.\n",
    "- from math import log : digunakan untuk meng-import fungsi log dari modul math. Fungsi ini digunakan dalam perhitungan GLCM (Gray Level Co-occurrence Matrix).\n",
    "- cv2: menyediakan berbagai fungsi dan algoritma untuk pemrosesan citra.\n",
    "- pandas : digunakan untuk manipulasi dan analisis data. DataFrame dari pandas sering digunakan untuk menyimpan dan menganalisis data tabular.\n",
    "- ceil : fungsi ini digunakan untuk membulatkan bilangan ke atas menjadi bilangan integer terdekat.\n",
    "- datasets : digunakan untuk meng-import modul datasets dari scikit-learn, yang menyediakan dataset bawaan yang umum digunakan.\n",
    "- train_test_split : digunakan untuk membagi dataset menjadi subset pelatihan dan pengujian.\n",
    "- svm : digunakan untuk meng-import modul svm dari scikit-learn, yang menyediakan algoritma Support Vector Machine (SVM) untuk klasifikasi dan regresi.\n",
    "- accuracy_score : digunakan untuk menghitung akurasi dari model klasifikasi.\n",
    "- classification_report : digunakan untuk menghasilkan laporan klasifikasi yang berisi metrik evaluasi seperti presisi, recall, dan f1-score.\n",
    "- StandardScaler : digunakan untuk meng-importmelakukan penskalaan fitur dengan menghapus rata-rata dan mengubah varians fitur menjadi satu.\n",
    "- PCA : digunakan untuk melakukan analisis komponen utama (PCA) yang mengurangi dimensi data dengan memproyeksikannya ke ruang fitur yang lebih rendah."
   ]
  },
  {
   "cell_type": "code",
   "execution_count": 1,
   "metadata": {
    "colab": {},
    "colab_type": "code",
    "id": "gveXsHXZD5NV"
   },
   "outputs": [],
   "source": [
    "import numpy as np\n",
    "import matplotlib.pyplot as plt\n",
    "import os #untuk import dataset\n",
    "from math import log #rumus glcm\n",
    "import cv2 \n",
    "import pandas as pd #untuk nampilin data frame\n",
    "from math import ceil\n",
    "from sklearn import datasets \n",
    "from sklearn.model_selection import train_test_split \n",
    "from sklearn import svm\n",
    "from sklearn.metrics import accuracy_score\n",
    "from sklearn.metrics import classification_report\n",
    "from sklearn.preprocessing import StandardScaler\n",
    "from sklearn.decomposition import PCA"
   ]
  },
  {
   "attachments": {},
   "cell_type": "markdown",
   "metadata": {},
   "source": [
    "## Menampilkan Gambar"
   ]
  },
  {
   "attachments": {},
   "cell_type": "markdown",
   "metadata": {},
   "source": [
    "Script di bawah bertujuan untuk menampilkan sejumlah gambar dalam bentuk grid dengan judul yang sesuai dengan parameter images berisi gambar-gambar yang akan ditampilkan, titles berisi judul untuk setiap gambar, row menentukan jumlah baris dalam grid, dan col menentukan jumlah kolom dalam grid."
   ]
  },
  {
   "cell_type": "code",
   "execution_count": 2,
   "metadata": {},
   "outputs": [],
   "source": [
    "def showImage(images, titles, row, col):\n",
    "    plt.figure(figsize=(10,10)) #Membuat objek gambar baru dengan ukuran 10x10 inci \n",
    "    for i in range(row): #Melakukan perulangan sebanyak row kali untuk mengatur baris gambar dalam grid.\n",
    "        for j in range (col): #Melakukan perulangan sebanyak col kali untuk mengatur kolom gambar dalam grid.\n",
    "            plt.subplot(row,col,i*col+(j+1)) #Membuat subplot dalam grid dengan posisi yang sesuai berdasarkan indeks i dan j. Rumus i*col+(j+1) digunakan untuk menghitung nomor subplot secara berurutan.\n",
    "            plt.grid(color=\"none\") #Menonaktifkan garis grid pada subplot.\n",
    "            plt.imshow(images[i*col+j],'gray') #igunakan untuk memilih gambar yang akan ditampilkan berdasarkan indeks i dan j. 'gray' mengindikasikan bahwa gambar ditampilkan dalam skala abu-abu.\n",
    "            plt.title(titles[i*col+j]) #Menampilkan judul untuk setiap gambar dalam subplot. Judul gambar dipilih berdasarkan indeks i dan j dengan menggunakan titles[i*col+j].\n",
    "    plt.tight_layout() #Mengatur tata letak subplot agar terlihat rapi dan sesuai.\n",
    "    plt.show() #Menampilkan grid gambar yang telah dibuat."
   ]
  },
  {
   "attachments": {},
   "cell_type": "markdown",
   "metadata": {},
   "source": [
    "## FILTERING"
   ]
  },
  {
   "attachments": {},
   "cell_type": "markdown",
   "metadata": {},
   "source": [
    "Script di bawah bertujuan untuk mengurutkan elemen-elemen dalam array.Fungsi ini menerima array sebagai masukan dan mengembalikan array yang sudah terurut. Fungsi sorting() ini mengimplementasikan algoritma pengurutan dengan pendekatan selection sort. Iterasi dilakukan pada setiap elemen array, dan pada setiap iterasi, elemen terkecil dalam subarray yang belum diurutkan dipilih dan ditukar dengan elemen pada posisi saat ini. Seiring dengan perulangan, elemen-elemen terkecil secara bertahap \"maju\" ke bagian awal array, sehingga pada akhirnya seluruh array terurut dari yang terkecil hingga terbesar."
   ]
  },
  {
   "cell_type": "code",
   "execution_count": 3,
   "metadata": {},
   "outputs": [],
   "source": [
    "def sorting(arr): #Mendefinisikan fungsi sorting() dengan satu parameter masukan yaitu arr yang merupakan array yang akan diurutkan.\n",
    "    for i in range(len(arr)): #Melakukan perulangan sebanyak panjang array (len(arr)) kali untuk mengiterasi setiap elemen dalam array.\n",
    "        swap = i + np.argmin(arr[i:]) #Menghitung indeks elemen terkecil dalam subarray yang dimulai dari indeks i hingga akhir array menggunakan fungsi np.argmin(). Nilai i ditambahkan untuk mengkoreksi indeks relatif terhadap subarray. Hasilnya disimpan dalam variabel swap.\n",
    "        (arr[i], arr[swap]) = (arr[swap], arr[i]) #Melakukan pertukaran (swap) elemen di indeks i dengan elemen di indeks swap menggunakan teknik pertukaran nilai dalam Python.\n",
    "    return arr #Mengembalikan array yang telah diurutkan setelah proses pengurutan selesai."
   ]
  },
  {
   "attachments": {},
   "cell_type": "markdown",
   "metadata": {},
   "source": [
    "Script di bawah bertujuan untuk mengubah array dua dimensi menjadi array satu dimensi. "
   ]
  },
  {
   "cell_type": "code",
   "execution_count": 4,
   "metadata": {},
   "outputs": [],
   "source": [
    "def flatArray(arr): #Mendefinisikan fungsi flatArray() dengan satu parameter masukan yaitu arr yang merupakan array dua dimensi yang akan diubah menjadi array satu dimensi.\n",
    "    row, col = arr.shape #Mengambil dimensi baris (row) dan kolom (col) dari array arr menggunakan atribut shape dari numpy array.\n",
    "    flat=[] #Membuat list kosong dengan nama flat yang akan digunakan untuk menyimpan elemen-elemen array satu dimensi.\n",
    "    for i in range (row): #Melakukan perulangan sebanyak jumlah baris (row) dalam array.\n",
    "        for j in range (col): #Melakukan perulangan sebanyak jumlah kolom (col) dalam array.\n",
    "            flat.append(arr[i][j]) #Menambahkan elemen pada indeks (i, j) dari array dua dimensi arr ke dalam list flat. Ini akan mengubah array dua dimensi menjadi satu dimensi dengan cara mengambil elemen-elemen secara berurutan.\n",
    "    return flat #Mengembalikan list flat yang berisi elemen-elemen array satu dimensi setelah proses konversi selesai."
   ]
  },
  {
   "attachments": {},
   "cell_type": "markdown",
   "metadata": {},
   "source": [
    "Script di bawah bertujuan untuk menerapkan filter median pada citra. Filter median digunakan untuk menghaluskan citra dengan menggantikan nilai piksel dengan nilai median dari piksel-piksel yang berada dalam jendela (window) tertentu. Fungsi median() ini menerapkan filter median pada citra dengan menggunakan jendela berukuran windowHeight x windowWidth. Pada setiap piksel citra, fungsi ini akan membentuk jendela di sekitar piksel tersebut, mengurutkan elemen-elemen dalam jendela, dan menggantikan nilai piksel dengan nilai median dari jendela. Hal ini digunakan untuk mengurangi derau atau noise pada citra dan menghasilkan citra yang lebih halus."
   ]
  },
  {
   "cell_type": "code",
   "execution_count": 5,
   "metadata": {},
   "outputs": [],
   "source": [
    "def median(image,windowHeight,windowWidth):\n",
    "    pad = np.pad(image,(windowHeight,windowWidth),mode='edge')\n",
    "    median = np.zeros(image.shape, dtype=np.uint8)\n",
    "    for i in range(windowHeight,len(pad)-windowHeight):\n",
    "        for j in range(windowWidth,len(pad)-windowWidth):\n",
    "            window = flatArray(pad[i-windowHeight:i,j-windowWidth:j])\n",
    "            window = sorting(window)\n",
    "            median[i-windowHeight,j-windowWidth] = window[ceil(len(window)/2)]\n",
    "    return median"
   ]
  },
  {
   "attachments": {},
   "cell_type": "markdown",
   "metadata": {},
   "source": [
    "## OPERASI MORFOLOGI -> EROSI"
   ]
  },
  {
   "attachments": {},
   "cell_type": "markdown",
   "metadata": {},
   "source": [
    "Script di bawah merupakan pengimplementasian fungsi erosi menggunakan operasi morfologi pada citra."
   ]
  },
  {
   "cell_type": "code",
   "execution_count": 6,
   "metadata": {},
   "outputs": [],
   "source": [
    "# Fungsi ini bertujuan untuk memeriksa kesesuaian nilai piksel pada jendela dengan SE. Jika ada setidaknya satu posisi pada SE yang bernilai 1 dan piksel yang sesuai pada \n",
    "# jendela bernilai 0, maka fungsi akan mengembalikan 0. Jika semua posisi pada SE yang bernilai 1 memiliki piksel yang sesuai pada jendela bernilai 1, maka fungsi akan \n",
    "# mengembalikan 1.\n",
    "def fit(window,SE): \n",
    "    for i in range(len(SE)):\n",
    "      for j in range(len(SE)):\n",
    "        if(SE[i][j]==1 and window[i][j]==0): \n",
    "          return 0\n",
    "    return 1\n",
    "\n",
    "# Fungsi ini akan menghasilkan citra hasil erosi yang merupakan proses penghilangan piksel berdasarkan Structuring Element.\n",
    "# fungsi erosi() ini memindai citra dengan jendela yang sesuai dengan ukuran SE, dan memeriksa apakah nilai piksel pada jendela sesuai dengan SE menggunakan fungsi `fit\n",
    "def erosi(image,SE):\n",
    "    erosi = np.zeros(image.shape, dtype=np.uint8)\n",
    "    row, col = image.shape\n",
    "    # melakukan perulangan pada window center image\n",
    "    for i in range(row-len(SE)):\n",
    "        for j in range(col-len(SE)):\n",
    "            window = image[i:i+len(SE),j:j+len(SE)]\n",
    "            # mengambil nilai pada fungsi fit, jika fit maka bernilai 1 jika tidak maka 0\n",
    "            erosi[i][j] = fit(window,SE)\n",
    "    return erosi"
   ]
  },
  {
   "attachments": {},
   "cell_type": "markdown",
   "metadata": {},
   "source": [
    "Script di bawah berfungsi untuk mengonversi citra menjadi citra biner. Dengan menggunakan fungsi convertBinary(), citra awal dapat diubah menjadi citra biner, di mana piksel-pikselnya hanya memiliki dua nilai yaitu 0 (hitam) atau 255 (putih). Proses ini biasanya digunakan dalam analisis citra untuk memisahkan objek dari latar belakang dengan cara yang lebih sederhana dan terstandarisasi."
   ]
  },
  {
   "cell_type": "code",
   "execution_count": 7,
   "metadata": {},
   "outputs": [],
   "source": [
    "def convertBinary(image):\n",
    "    ret, binary = cv2.threshold(image,30,255,cv2.THRESH_BINARY)\n",
    "    return binary"
   ]
  },
  {
   "attachments": {},
   "cell_type": "markdown",
   "metadata": {},
   "source": [
    "Script di bawah berfungsi untuk mendapatkan objek dari citra menggunakan proses thresholding. Dengan menggunakan fungsi getObject(), citra awal dapat diproses dengan proses thresholding untuk memisahkan objek dari latar belakang. Hasilnya adalah citra biner di mana objek diwakili oleh piksel dengan nilai 0 (hitam) dan latar belakang diwakili oleh piksel dengan nilai 255 (putih)."
   ]
  },
  {
   "cell_type": "code",
   "execution_count": 8,
   "metadata": {},
   "outputs": [],
   "source": [
    "def getObject(image): \n",
    "    # untuk melakukan proses thresholding pada citra. Proses thresholding dilakukan dengan menggunakan ambang batas 118. Piksel dengan intensitas di atas ambang batas akan \n",
    "    # diberi nilai maksimum (255) dan piksel dengan intensitas di bawah ambang batas akan diberi nilai nol (0). Hasil dari proses ini disimpan dalam variabel bovine.\n",
    "    ret,bovine = cv2.threshold(image,118,255,cv2.THRESH_BINARY)\n",
    "    bovine-=255\n",
    "    return bovine"
   ]
  },
  {
   "attachments": {},
   "cell_type": "markdown",
   "metadata": {},
   "source": [
    "Script di bawah merupakan pendefinisian SE (Structuring Element) dalam bentuk matriks. Dengan menggunakan matriks SE ini, dapat diterapkan operasi morfologi pada citra dengan memanfaatkan pola struktural yang ditentukan oleh matriks SE."
   ]
  },
  {
   "cell_type": "code",
   "execution_count": 9,
   "metadata": {},
   "outputs": [],
   "source": [
    "SE = [[1, 1, 1, 1, 1],\n",
    "       [1, 1, 1, 1, 1],\n",
    "       [1, 1, 1, 1, 1],\n",
    "       [1, 1, 1, 1, 1],\n",
    "       [1, 1, 1, 1, 1]]"
   ]
  },
  {
   "attachments": {},
   "cell_type": "markdown",
   "metadata": {},
   "source": [
    "## SEGMENTASI"
   ]
  },
  {
   "attachments": {},
   "cell_type": "markdown",
   "metadata": {},
   "source": [
    "Script di bawah bertujuan untuk melakukan segmentasi pada citra dengan menggunakan metode operasi morfologi dan masking. Citra utama dapat diolah dan dipisahkan objeknya berdasarkan proses erosi, median filtering, dan masking. Hasilnya adalah citra yang hanya menampilkan objek yang tersegmentasi dari citra utama."
   ]
  },
  {
   "cell_type": "code",
   "execution_count": 10,
   "metadata": {},
   "outputs": [],
   "source": [
    "def segmentation(mainImage, grayImage):\n",
    "    object=getObject(grayImage)\n",
    "    erode = erosi(object, SE)\n",
    "    medObject = median(erode, 4, 4) \n",
    "    maskObject = cv2.bitwise_and(mainImage, mainImage, mask=medObject) #buat maskingnya\n",
    "    return maskObject"
   ]
  },
  {
   "attachments": {},
   "cell_type": "markdown",
   "metadata": {},
   "source": [
    "Script di bawah bertujuan untuk menggambar kontur objek yang telah diproses pada citra utama. Dengan menggunakan fungsi drawObject(), citra utama dapat digambar dengan kontur objek yang telah diproses sebelumnya. Hal ini membantu dalam visualisasi objek yang telah diidentifikasi pada citra utama."
   ]
  },
  {
   "cell_type": "code",
   "execution_count": 11,
   "metadata": {},
   "outputs": [],
   "source": [
    "def drawObject(mainImage, object): #buat drawnya, ini juga kayanya buat draw objectnya\n",
    "    grayObject = cv2.cvtColor(object, cv2.COLOR_RGB2GRAY)\n",
    "    binaryObject = convertBinary(grayObject)\n",
    "    contours, hierarchy = cv2.findContours(binaryObject, cv2.RETR_TREE, cv2.CHAIN_APPROX_SIMPLE)\n",
    "    objectDraw = cv2.drawContours(mainImage, contours, -1, (0,255,0), 2)\n",
    "    return objectDraw"
   ]
  },
  {
   "attachments": {},
   "cell_type": "markdown",
   "metadata": {},
   "source": [
    "## MENGAMBIL DATASET"
   ]
  },
  {
   "attachments": {},
   "cell_type": "markdown",
   "metadata": {},
   "source": [
    "Script di bawah digunakan untuk melakukan beberapa hal terkait dengan pembacaan dataset citra dan pengolahan citra. "
   ]
  },
  {
   "cell_type": "code",
   "execution_count": 12,
   "metadata": {},
   "outputs": [],
   "source": [
    "dataset_dir = \"dataset/\"\n",
    "images = []\n",
    "labels = []\n",
    "names = []\n",
    "amritmahal = 1 #nandain buat mulai dari 1\n",
    "gir = 1 #nandain buat mulai dari 1\n",
    "mehsana = 1 #nandain buat mulai dari 1\n",
    "for sub_folder in os.listdir(dataset_dir): \n",
    "    sub_folder_files = os.listdir(os.path.join(dataset_dir, sub_folder))\n",
    "    for i, filename in enumerate(sub_folder_files):\n",
    "        img = cv2.imread(os.path.join(dataset_dir, sub_folder, filename))\n",
    "        img = cv2.cvtColor(img, cv2.COLOR_BGR2RGB)\n",
    "        img = cv2.resize(img, (255,255))\n",
    "        gray = cv2.cvtColor(img, cv2.COLOR_RGB2GRAY)\n",
    "        maskObject = segmentation(img, gray)\n",
    "        draw = drawObject(img, maskObject)\n",
    "        if (sub_folder == 'Amritmahal'): \n",
    "            plt.imsave(\"hasil dataset/mask_bovine/Mask-Amritmahal-\"+str(amritmahal)+\".png\", maskObject)\n",
    "            plt.imsave(\"hasil dataset/draw_bovine/Draw-Amritmahal-\"+str(amritmahal)+\".png\", draw)\n",
    "            amritmahal+=1\n",
    "        elif(sub_folder == 'Gir'): \n",
    "            plt.imsave(\"hasil dataset/mask_bovine/Mask-Gir-\"+str(gir)+\".png\", maskObject)\n",
    "            plt.imsave(\"hasil dataset/draw_bovine/Draw-Gir-\"+str(gir)+\".png\", draw)\n",
    "            gir+=1\n",
    "        else:\n",
    "            plt.imsave(\"hasil dataset/mask_bovine/Mask-Mehsana-\"+str(mehsana)+\".png\", maskObject)\n",
    "            plt.imsave(\"hasil dataset/draw_bovine/Draw-Mehsana-\"+str(mehsana)+\".png\", draw)\n",
    "            mehsana+=1\n",
    "        grayObject = cv2.cvtColor(img, cv2.COLOR_RGB2GRAY)\n",
    "        images.append(grayObject)\n",
    "        labels.append(sub_folder)\n",
    "        names.append(filename)\n",
    "images = np.array(images)\n",
    "labels = np.array(labels)\n",
    "names = np.array(names)"
   ]
  },
  {
   "attachments": {},
   "cell_type": "markdown",
   "metadata": {},
   "source": [
    "## PLOTTING GAMBAR"
   ]
  },
  {
   "attachments": {},
   "cell_type": "markdown",
   "metadata": {},
   "source": [
    "Script di bawah berfungsi untuk membaca citra dengan nama file \"1.jpg\" dari direktori \"dataset/Amritmahal\". Citra tersebut dibaca dalam mode warna BGR menggunakan fungsi cv2.imread() dari library OpenCV. Hasilnya akan disimpan dalam variabel imgBGR yang dapat digunakan untuk proses selanjutnya."
   ]
  },
  {
   "cell_type": "code",
   "execution_count": 13,
   "metadata": {},
   "outputs": [],
   "source": [
    "imgBGR = cv2.imread('dataset/Amritmahal/1.jpg')"
   ]
  },
  {
   "attachments": {},
   "cell_type": "markdown",
   "metadata": {},
   "source": [
    "Script di bawah berfungsi mengubah mode warna citra dari BGR menjadi RGB menggunakan fungsi cv2.cvtColor() dari library OpenCV."
   ]
  },
  {
   "cell_type": "code",
   "execution_count": 15,
   "metadata": {},
   "outputs": [
    {
     "ename": "error",
     "evalue": "OpenCV(4.7.0) D:\\a\\opencv-python\\opencv-python\\opencv\\modules\\imgproc\\src\\color.cpp:182: error: (-215:Assertion failed) !_src.empty() in function 'cv::cvtColor'\n",
     "output_type": "error",
     "traceback": [
      "\u001b[1;31m---------------------------------------------------------------------------\u001b[0m",
      "\u001b[1;31merror\u001b[0m                                     Traceback (most recent call last)",
      "Cell \u001b[1;32mIn[15], line 1\u001b[0m\n\u001b[1;32m----> 1\u001b[0m imgRGB \u001b[39m=\u001b[39m cv2\u001b[39m.\u001b[39;49mcvtColor(imgBGR, cv2\u001b[39m.\u001b[39;49mCOLOR_BGR2RGB)\n",
      "\u001b[1;31merror\u001b[0m: OpenCV(4.7.0) D:\\a\\opencv-python\\opencv-python\\opencv\\modules\\imgproc\\src\\color.cpp:182: error: (-215:Assertion failed) !_src.empty() in function 'cv::cvtColor'\n"
     ]
    }
   ],
   "source": [
    "imgRGB = cv2.cvtColor(imgBGR, cv2.COLOR_BGR2RGB)"
   ]
  },
  {
   "attachments": {},
   "cell_type": "markdown",
   "metadata": {},
   "source": [
    "Script di bawah bertujuan untuk meresize citra yang telah diubah ke mode warna RGB dengan menggunakan fungsi cv2.resize() dari library OpenCV. Citra diubah ukurannya menjadi 255x255 piksel."
   ]
  },
  {
   "cell_type": "code",
   "execution_count": null,
   "metadata": {},
   "outputs": [],
   "source": [
    "img = cv2.resize(imgRGB, (255,255))"
   ]
  },
  {
   "attachments": {},
   "cell_type": "markdown",
   "metadata": {},
   "source": [
    "Script di bawah bertujuan untuk mengubah citra dengan mode warna RGB menjadi citra grayscale menggunakan fungsi cv2.cvtColor() dari library OpenCV."
   ]
  },
  {
   "cell_type": "code",
   "execution_count": null,
   "metadata": {},
   "outputs": [],
   "source": [
    "gray = cv2.cvtColor(img, cv2.COLOR_RGB2GRAY)"
   ]
  },
  {
   "attachments": {},
   "cell_type": "markdown",
   "metadata": {},
   "source": [
    "Script di bawah berfungsi untuk menginisialisasi variabel object dengan memanggil fungsi getObject() dan memberikan argumen citra grayscale gray ke dalamnya."
   ]
  },
  {
   "cell_type": "code",
   "execution_count": null,
   "metadata": {},
   "outputs": [],
   "source": [
    "object=getObject(gray)"
   ]
  },
  {
   "attachments": {},
   "cell_type": "markdown",
   "metadata": {},
   "source": [
    "Script di bawah berfungsi untuk menginisialisasi variabel erode dengan memanggil fungsi erosi() dan memberikan argumen citra object serta struktur elemen SE ke dalamnya."
   ]
  },
  {
   "cell_type": "code",
   "execution_count": null,
   "metadata": {},
   "outputs": [],
   "source": [
    "erode = erosi(object, SE)"
   ]
  },
  {
   "attachments": {},
   "cell_type": "markdown",
   "metadata": {},
   "source": [
    "Script di bawah berfungsi untuk menginisialisasi variabel medObject dengan memanggil fungsi median() dan memberikan argumen citra erode, serta ukuran jendela (window size) 4x4 ke dalamnya."
   ]
  },
  {
   "cell_type": "code",
   "execution_count": null,
   "metadata": {},
   "outputs": [],
   "source": [
    "medObject = median(erode, 4, 4)"
   ]
  },
  {
   "attachments": {},
   "cell_type": "markdown",
   "metadata": {},
   "source": [
    "Script di bawah berfungsi untuk menginisialisasi variabel maskObject dengan menggunakan fungsi cv2.bitwise_and() untuk melakukan operasi bitwise AND antara citra img dan medObject, dengan menggunakan medObject sebagai mask. Operasi bitwise AND pada citra dilakukan dengan membandingkan piksel-piksel dari kedua citra input dan menghasilkan citra output di mana hanya piksel-piksel yang memiliki nilai yang sama (non-zero) pada kedua citra yang dipertahankan, sedangkan piksel-piksel yang memiliki nilai yang berbeda (zero) akan menjadi nol pada citra output."
   ]
  },
  {
   "cell_type": "code",
   "execution_count": null,
   "metadata": {},
   "outputs": [],
   "source": [
    "maskObject = cv2.bitwise_and(img, img, mask=medObject)"
   ]
  },
  {
   "attachments": {},
   "cell_type": "markdown",
   "metadata": {},
   "source": [
    "Script di bawah berfungsi untuk menginisialisasi variabel grayObject dengan menggunakan fungsi cv2.cvtColor() untuk mengubah citra maskObject dari mode warna RGB menjadi citra grayscale."
   ]
  },
  {
   "cell_type": "code",
   "execution_count": null,
   "metadata": {},
   "outputs": [],
   "source": [
    "grayObject = cv2.cvtColor(maskObject, cv2.COLOR_RGB2GRAY)"
   ]
  },
  {
   "attachments": {},
   "cell_type": "markdown",
   "metadata": {},
   "source": [
    "Script di bawah berfungsi untuk menginisialisasi variabel binaryObject dengan menggunakan fungsi convertBinary() untuk mengonversi citra grayObject menjadi citra biner. Fungsi convertBinary() mengambil citra grayObject sebagai argumen dan melakukan proses thresholding untuk menghasilkan citra biner. Pada kode tersebut, terdapat pemanggilan convertBinary(grayObject), yang berarti citra grayObject akan dijadikan input untuk fungsi convertBinary()."
   ]
  },
  {
   "cell_type": "code",
   "execution_count": null,
   "metadata": {},
   "outputs": [],
   "source": [
    "binaryObject = convertBinary(grayObject)"
   ]
  },
  {
   "attachments": {},
   "cell_type": "markdown",
   "metadata": {},
   "source": [
    "Pada dua baris script di bawah, dilakukan proses pencarian kontur pada citra biner binaryObject menggunakan fungsi cv2.findContours(). Kontur adalah tepi atau garis lengkung yang membentuk batas objek dalam citra."
   ]
  },
  {
   "cell_type": "code",
   "execution_count": null,
   "metadata": {},
   "outputs": [],
   "source": [
    "contours, hierarchy = cv2.findContours(binaryObject, cv2.RETR_TREE, cv2.CHAIN_APPROX_SIMPLE)\n",
    "objectDraw = cv2.drawContours(img, contours, -1, (0,255,0), 2)"
   ]
  },
  {
   "attachments": {},
   "cell_type": "markdown",
   "metadata": {},
   "source": [
    "Pada script di bawah dilakukan beberapa proses pada citra imgRGB untuk menghasilkan beberapa citra yang berbeda. Kemudian, citra-citra tersebut disimpan dalam sebuah list hasilimage dan judul-judulnya disimpan dalam list titles. Setelah itu, fungsi showImage() dipanggil untuk menampilkan citra-citra tersebut dalam bentuk grid dengan 4 baris dan 3 kolom. Script di bawah menunjukkan proses transformasi dan pemrosesan citra yang dilakukan sebelum ditampilkan."
   ]
  },
  {
   "cell_type": "code",
   "execution_count": null,
   "metadata": {},
   "outputs": [],
   "source": [
    "none = np.zeros(img.shape)\n",
    "img = cv2.resize(imgRGB, (255,255))\n",
    "titles = ['BGR Image','RGB Image', 'Resize Image',\n",
    "    'Gray Image', 'Object', 'Erode Object',\n",
    "    'Median Erode Object', 'Masking Object', 'Gray Object',\n",
    "    'Binary Object', 'Object Draw', 'None']\n",
    "hasilimage = [imgBGR,imgRGB, img,\n",
    "    gray, object, erode,\n",
    "    medObject, maskObject, grayObject,\n",
    "    binaryObject, objectDraw, none]\n",
    "showImage(hasilimage, titles, 4, 3)"
   ]
  },
  {
   "attachments": {},
   "cell_type": "markdown",
   "metadata": {},
   "source": [
    "## GLCM"
   ]
  },
  {
   "attachments": {},
   "cell_type": "markdown",
   "metadata": {},
   "source": [
    "Fungsi transpose(matrix) pada script di bawah digunakan untuk melakukan operasi transpose pada sebuah matriks. Operasi transpose mengubah baris menjadi kolom dan sebaliknya, sehingga elemen-elemen yang awalnya berada pada baris tertentu akan berpindah posisi menjadi kolom pada posisi yang sama."
   ]
  },
  {
   "cell_type": "code",
   "execution_count": null,
   "metadata": {},
   "outputs": [],
   "source": [
    "def transpose(matrix):\n",
    "    matrix_transpose = []\n",
    "    row,col = matrix.shape\n",
    "    for i in range(row):\n",
    "        mRow = []\n",
    "        for j in range(col):\n",
    "            mRow.append(matrix[j][i])\n",
    "        matrix_transpose.append(mRow)\n",
    "    return matrix_transpose"
   ]
  },
  {
   "attachments": {},
   "cell_type": "markdown",
   "metadata": {},
   "source": [
    "Script di bawah bertujuan untuk menghitung jumlah seluruh elemen dalam sebuah matriks image. Dengan menggunakan fungsi dataSum(image), kita dapat menghitung jumlah seluruh elemen dalam matriks image dan mendapatkan hasilnya."
   ]
  },
  {
   "cell_type": "code",
   "execution_count": null,
   "metadata": {},
   "outputs": [],
   "source": [
    "def dataSum(image):\n",
    "    result = 0\n",
    "    for i in range (len(image)):\n",
    "        for j in range(len(image)):\n",
    "            result+=image[i,j]\n",
    "    return result"
   ]
  },
  {
   "attachments": {},
   "cell_type": "markdown",
   "metadata": {},
   "source": [
    "Script di bawah bertujuan untuk melakukan normalisasi terhadap nilai-nilai dalam sebuah matriks image. Normalisasi dilakukan dengan membagi setiap elemen dalam matriks dengan jumlah seluruh elemen matriks tersebut. Dengan menggunakan fungsi normalization(image), kita dapat melakukan normalisasi terhadap matriks image dan mendapatkan matriks yang telah dinormalisasi."
   ]
  },
  {
   "cell_type": "code",
   "execution_count": null,
   "metadata": {},
   "outputs": [],
   "source": [
    "def normalization(image):\n",
    "    row, col = image.shape\n",
    "    n = dataSum(image)\n",
    "    for i in range(row):\n",
    "        for j in range(col):\n",
    "            image[i,j]/=n\n",
    "    return image"
   ]
  },
  {
   "attachments": {},
   "cell_type": "markdown",
   "metadata": {},
   "source": [
    "Script di bawah digunakan untuk menghitung matriks GLCM (Gray Level Co-occurrence Matrix) dari sebuah citra grayscale (image) dengan ukuran matriks dimention dan arah degree. Dengan menggunakan fungsi cooccurance(image, dimention, degree), kita dapat menghitung matriks GLCM dari citra grayscale dan mendapatkan representasi statistik dari hubungan antara piksel-piksel dalam citra tersebut."
   ]
  },
  {
   "cell_type": "code",
   "execution_count": null,
   "metadata": {},
   "outputs": [],
   "source": [
    "def cooccurance (image, dimention, degree):\n",
    "    row, col = image.shape\n",
    "    matrixCo = np.zeros([dimention+1,dimention+1])\n",
    "    if(degree == 0):\n",
    "        for i in range(row):\n",
    "            for j in range(col):\n",
    "                if(j+1 < col):\n",
    "                    matrixCo[image[i,j], image[i,j+1]] += 1\n",
    "    elif (degree == 45):\n",
    "        for i in range(row):\n",
    "            for j in range(col):\n",
    "                if(i-1 >= 0 and j+1 < col):\n",
    "                    matrixCo[image[i,j], image[i-1,j+1]] += 1\n",
    "    elif (degree == 90):\n",
    "        for i in range(row):\n",
    "            for j in range(col):\n",
    "                if(i+1 < row and j+1 < col):\n",
    "                    matrixCo[image[i,j], image[i+1,j]] += 1\n",
    "    elif (degree == 135):\n",
    "        for i in range(row):\n",
    "            for j in range(col):\n",
    "                if(i+1 < row and j+1 < col):\n",
    "                    matrixCo[image[i,j], image[i+1,j+1]] += 1\n",
    "    trans = transpose(matrixCo)\n",
    "    sumMatrix = matrixCo+trans\n",
    "    glcm = normalization(sumMatrix)\n",
    "    return glcm"
   ]
  },
  {
   "attachments": {},
   "cell_type": "markdown",
   "metadata": {},
   "source": [
    "Fungsi-fungsi tersebut (mean, tao, extraction) terkait dengan ekstraksi fitur dari matriks GLCM (Gray Level Co-occurrence Matrix) yang direpresentasikan oleh citra image. Fungsi-fungsi ini menghitung sejumlah statistik dan fitur berdasarkan matriks GLCM."
   ]
  },
  {
   "cell_type": "code",
   "execution_count": null,
   "metadata": {},
   "outputs": [],
   "source": [
    "def mean(image):\n",
    "    meanX=meanY= 0\n",
    "    for i in range (len(image)):\n",
    "        for j in range(len(image)):\n",
    "            meanX += i * image[i,j]\n",
    "            meanY += j * image[i,j]\n",
    "    return meanX, meanY\n",
    "def tao(image):\n",
    "    taoX=taoY=0\n",
    "    meanX,meanY= mean(image)\n",
    "    for i in range (len(image)):\n",
    "        for j in range(len(image)):\n",
    "            taoX += pow((i-meanX),2)*image[i,j]\n",
    "            taoY += pow((j-meanY),2)*image[i,j]\n",
    "    return taoX, taoY\n",
    "def extraction(image):\n",
    "    energy=homogenity=entropy=contrast=disimilarity=correlation=ASM=0\n",
    "    meanX, meanY = mean(image)\n",
    "    taoX, taoY = tao(image)\n",
    "    for i in range (len(image)):\n",
    "        for j in range (len(image)):\n",
    "            contrast += image[i,j]*pow((i-j),2)\n",
    "            disimilarity += image[i,j]*abs(i-j)\n",
    "            # homogenity += image[i,j]/1+(pow((i-j),2))\n",
    "            homogenity += image[i,j]/1+abs(i-j)\n",
    "            if image[i,j] > 0:\n",
    "                entropy += -(image[i,j] * log(image[i,j]))\n",
    "            ASM += pow(image[i,j],2)\n",
    "            correlation+=((i-meanX)*(j-meanY)*image[i,j])/pow((taoX*taoY),1/2)\n",
    "    energy = pow(ASM, 1/2)\n",
    "    return contrast,disimilarity,homogenity,entropy,ASM,energy,correlation"
   ]
  },
  {
   "attachments": {},
   "cell_type": "markdown",
   "metadata": {},
   "source": [
    "Fungsi getGLCM(images) menghasilkan matriks GLCM (Gray Level Co-occurrence Matrix) untuk setiap citra dalam daftar images. Fungsi ini melakukan ekstraksi GLCM dengan menggunakan fungsi cooccurance untuk empat arah sudut (0 derajat, 45 derajat, 90 derajat, dan 135 derajat)."
   ]
  },
  {
   "cell_type": "code",
   "execution_count": null,
   "metadata": {},
   "outputs": [],
   "source": [
    "def getGLCM(images):\n",
    "    glcmImage = []\n",
    "    for i in range(len(images)):\n",
    "        glcm = []\n",
    "        max = images[i].max()\n",
    "        glcm.append(cooccurance(images[i],max,0))\n",
    "        glcm.append(cooccurance(images[i],max,45))\n",
    "        glcm.append(cooccurance(images[i],max,90))\n",
    "        glcm.append(cooccurance(images[i],max,135))\n",
    "        glcmImage.append(glcm)\n",
    "    return glcmImage"
   ]
  },
  {
   "attachments": {},
   "cell_type": "markdown",
   "metadata": {},
   "source": [
    "Script di bawah membuat sebuah csv (comma-separated values) yang berisi data ekstraksi fitur GLCM dari setiap citra dalam daftar images. Setiap baris dalam csv akan berisi informasi tentang satu citra beserta fitur-fitur GLCM yang diekstraksi.Setelah selesai mengiterasi semua citra, csv akan berisi data ekstraksi fitur GLCM dari setiap citra dalam format yang sesuai untuk disimpan dalam file CSV."
   ]
  },
  {
   "cell_type": "code",
   "execution_count": null,
   "metadata": {},
   "outputs": [],
   "source": [
    "csv = []\n",
    "index = 0\n",
    "for i in getGLCM(images):\n",
    "    extract = []\n",
    "    extract.append(names[index])\n",
    "    extract.append(labels[index])\n",
    "    index+=1\n",
    "    for img in i:\n",
    "        contrast,disimilarity,homogenity,entropy,ASM,energy,correlation = extraction(img)\n",
    "        extract.append(contrast)\n",
    "        extract.append(disimilarity)\n",
    "        extract.append(homogenity)\n",
    "        extract.append(entropy)\n",
    "        extract.append(ASM)\n",
    "        extract.append(energy)\n",
    "        extract.append(correlation)\n",
    "    csv.append(extract)"
   ]
  },
  {
   "attachments": {},
   "cell_type": "markdown",
   "metadata": {},
   "source": [
    "Script di bawah menggunakan library Pandas untuk membuat sebuah DataFrame dari data yang tersimpan dalam csv. DataFrame ini akan memiliki kolom-kolom yang sesuai dengan header yang diberikan. Setelah kode di atas dieksekusi, DataFrame df akan berisi data ekstraksi fitur GLCM yang telah disusun dalam format tabel dengan kolom-kolom yang sesuai."
   ]
  },
  {
   "cell_type": "code",
   "execution_count": null,
   "metadata": {},
   "outputs": [],
   "source": [
    "header = ['Name','Label','Contrast0','Dissimilarity0','Homogenity0','Entropy0','ASM0','Energy0','Correlation0'\n",
    "           ,'Contrast45','Dissimilarity45','Homogenity45','Entropy45','ASM45','Energy45','Correlation45'\n",
    "           ,'Contrast90','Dissimilarity90','Homogenity90','Entropy90','ASM90','Energy90','Correlation90'\n",
    "           ,'Contrast135','Dissimilarity135','Homogenity135','Entropy135','ASM135','Energy135','Correlation135']\n",
    "df = pd.DataFrame(csv, columns=header)"
   ]
  },
  {
   "attachments": {},
   "cell_type": "markdown",
   "metadata": {},
   "source": [
    "Script di bawah akan menyimpan DataFrame df ke dalam file CSV dengan nama \"result.csv\". Fungsi to_csv() digunakan untuk menyimpan DataFrame ke dalam file CSV. Argument r'result.csv' menentukan nama dan lokasi file tujuan, sedangkan index=False digunakan untuk menghilangkan kolom indeks yang biasanya ditambahkan oleh default saat menyimpan ke file CSV."
   ]
  },
  {
   "cell_type": "code",
   "execution_count": null,
   "metadata": {},
   "outputs": [],
   "source": [
    "df.to_csv(r'result.csv', index=False)"
   ]
  },
  {
   "attachments": {},
   "cell_type": "markdown",
   "metadata": {},
   "source": [
    "Script di bawah adalah variabel yang berisi DataFrame yang telah dibuat sebelumnya. Jika Anda mencetak df setelah menjalankan kode df.to_csv(r'result.csv', index=False), maka hasilnya akan menampilkan isi dari DataFrame tersebut. DataFrame ini berisi data yang diambil dari gambar-gambar dalam dataset, serta ekstraksi fitur GLCM yang telah dilakukan. Setiap baris dalam DataFrame mewakili satu gambar, dan setiap kolom mewakili fitur-fitur GLCM yang diekstraksi."
   ]
  },
  {
   "cell_type": "code",
   "execution_count": null,
   "metadata": {},
   "outputs": [],
   "source": [
    "df"
   ]
  },
  {
   "attachments": {},
   "cell_type": "markdown",
   "metadata": {},
   "source": [
    "Script di bawah menginisialisasi variabel y dan X dengan menggunakan DataFrame df. Dengan menginisialisasi y dan X seperti itu, kita dapat menggunakan y sebagai target atau label dalam pemodelan atau analisis, sedangkan X digunakan sebagai fitur atau atribut yang akan digunakan untuk melatih model atau melakukan analisis lebih lanjut."
   ]
  },
  {
   "cell_type": "code",
   "execution_count": null,
   "metadata": {},
   "outputs": [],
   "source": [
    "y = df['Label']\n",
    "X = df.drop(['Label', 'Name'], axis = 1)"
   ]
  },
  {
   "attachments": {},
   "cell_type": "markdown",
   "metadata": {},
   "source": [
    "Script di bawah melakukan penskalaan fitur menggunakan StandardScaler dari modul sklearn.preprocessing. Hasilnya, X_scaled akan berisi fitur-fitur yang telah diubah skala menjadi memiliki mean 0 dan standar deviasi 1, siap untuk digunakan dalam pemodelan atau analisis lanjutan yang memerlukan skala yang seragam pada fitur-fiturnya."
   ]
  },
  {
   "cell_type": "code",
   "execution_count": null,
   "metadata": {},
   "outputs": [],
   "source": [
    "scaler = StandardScaler()\n",
    "X_scaled = scaler.fit_transform(X)"
   ]
  },
  {
   "attachments": {},
   "cell_type": "markdown",
   "metadata": {},
   "source": [
    "Script di bawah menggunakan analisis komponen utama (Principal Component Analysis/PCA) untuk mengurangi dimensi fitur. PCA digunakan untuk mengidentifikasi pola yang signifikan dalam data dan mengurangi dimensi fitur. Dalam konteks ini, X_pca berisi representasi fitur yang lebih padat dengan jumlah dimensi yang lebih kecil (4 komponen utama) daripada X_scaled, sehingga dapat digunakan untuk analisis atau pemodelan selanjutnya dengan overhead komputasi yang lebih rendah."
   ]
  },
  {
   "cell_type": "code",
   "execution_count": null,
   "metadata": {},
   "outputs": [],
   "source": [
    "pca = PCA(n_components=4)\n",
    "pca.fit(X_scaled)\n",
    "X_pca = pca.transform(X_scaled)"
   ]
  },
  {
   "attachments": {},
   "cell_type": "markdown",
   "metadata": {},
   "source": [
    "Script di bawah berfungsi untuk melakukan pembagian dataset menjadi data latih (train) dan data uji (test) menggunakan fungsi train_test_split() dari modul sklearn.model_selection. "
   ]
  },
  {
   "cell_type": "code",
   "execution_count": null,
   "metadata": {},
   "outputs": [],
   "source": [
    "X_train, X_test, y_train, y_test = train_test_split(X_pca, y, test_size=0.25)"
   ]
  },
  {
   "attachments": {},
   "cell_type": "markdown",
   "metadata": {},
   "source": [
    "Script di bawah menggunakan model Support Vector Machine (SVM) untuk melakukan pelatihan dan prediksi pada data yang telah dibagi menjadi data latih (X_train, y_train) dan data uji (X_test). Dengan menggunakan model SVM yang telah dilatih, kita dapat memprediksi kelas target untuk data yang belum pernah dilihat sebelumnya (data uji) dan membandingkan hasil prediksi dengan nilai sebenarnya (y_test) untuk mengevaluasi performa model."
   ]
  },
  {
   "cell_type": "code",
   "execution_count": null,
   "metadata": {},
   "outputs": [],
   "source": [
    "model = svm.SVC()\n",
    "model.fit(X_train, y_train)\n",
    "y_pred = model.predict(X_test)"
   ]
  },
  {
   "attachments": {},
   "cell_type": "markdown",
   "metadata": {},
   "source": [
    "Script di bawah digunakan untuk mencetak akurasi prediksi model dengan membandingkan nilai sebenarnya (y_test) dengan hasil prediksi (y_pred) menggunakan metode accuracy_score()."
   ]
  },
  {
   "cell_type": "code",
   "execution_count": null,
   "metadata": {},
   "outputs": [],
   "source": [
    "# reporting model accuracy\n",
    "print(\"Accuracy:\", round(accuracy_score(y_test, y_pred)*100),'%')"
   ]
  },
  {
   "attachments": {},
   "cell_type": "markdown",
   "metadata": {},
   "source": [
    "Script di bawah adalah variabel yang berisi hasil prediksi yang diperoleh dari model. Variabel ini berisi kelas-kelas prediksi untuk set data uji (X_test) berdasarkan model yang telah dilatih sebelumnya. Nilai y_pred merupakan hasil prediksi dari model SVM untuk setiap sampel pada set data uji. Nilai ini dapat berupa label kelas atau nilai numerik tergantung pada jenis masalah yang sedang diselesaikan."
   ]
  },
  {
   "cell_type": "code",
   "execution_count": null,
   "metadata": {},
   "outputs": [],
   "source": [
    "y_pred"
   ]
  },
  {
   "attachments": {},
   "cell_type": "markdown",
   "metadata": {},
   "source": [
    "Script di bawah adalah variabel yang berisi label kelas sebenarnya untuk set data uji (X_test). Variabel ini digunakan untuk membandingkan dengan hasil prediksi (y_pred) yang diperoleh dari model."
   ]
  },
  {
   "cell_type": "code",
   "execution_count": null,
   "metadata": {},
   "outputs": [],
   "source": [
    "y_test"
   ]
  },
  {
   "attachments": {},
   "cell_type": "markdown",
   "metadata": {},
   "source": [
    "Script di bawah berfungsi untuk memanggil fungsi classification_report dengan paramater yaitu y_test dan y_pred"
   ]
  },
  {
   "cell_type": "code",
   "execution_count": null,
   "metadata": {},
   "outputs": [],
   "source": [
    "print(classification_report(y_test, y_pred))"
   ]
  }
 ],
 "metadata": {
  "colab": {
   "authorship_tag": "ABX9TyMyd1i/6BFXy6acjL90driY",
   "collapsed_sections": [],
   "mount_file_id": "1xamud9wRWqc-cfnaZXAt9nrK-tTRXpZ1",
   "name": "jurnal.ipynb",
   "provenance": []
  },
  "interpreter": {
   "hash": "ad6f12caae2cb039614e0b135a5e726b994966bf8684f70d5c3df8bba3e98551"
  },
  "kernelspec": {
   "display_name": "Python 3.9.5 64-bit ('PythonSoftwareFoundation.Python.3.9_qbz5n2kfra8p0')",
   "name": "python3"
  },
  "language_info": {
   "codemirror_mode": {
    "name": "ipython",
    "version": 3
   },
   "file_extension": ".py",
   "mimetype": "text/x-python",
   "name": "python",
   "nbconvert_exporter": "python",
   "pygments_lexer": "ipython3",
   "version": "3.11.2"
  }
 },
 "nbformat": 4,
 "nbformat_minor": 4
}
